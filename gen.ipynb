{
 "cells": [
  {
   "cell_type": "code",
   "execution_count": 1,
   "metadata": {},
   "outputs": [],
   "source": [
    "import os\n",
    "import numpy as np\n",
    "import networkx as nx\n",
    "from deap import base, creator, tools, algorithms"
   ]
  },
  {
   "cell_type": "code",
   "execution_count": 3,
   "metadata": {},
   "outputs": [],
   "source": [
    "# Параметры\n",
    "num_graphs = 1000\n",
    "num_nodes = 30\n",
    "pop_size = 100  # Размер популяции\n",
    "num_generations = 50  # Количество поколений"
   ]
  },
  {
   "cell_type": "code",
   "execution_count": 5,
   "metadata": {},
   "outputs": [],
   "source": [
    "# Директория для хранения файлов\n",
    "script_dir = os.getcwd()\n",
    "directory = os.path.join(script_dir, 'data')\n",
    "os.makedirs(directory, exist_ok=True)\n",
    "# Инициализация массива весовых матриц и \"хороших\" путей\n",
    "weights_matrices = np.zeros((num_graphs, num_nodes, num_nodes))\n",
    "good_paths = np.zeros((num_graphs, num_nodes), dtype=int)"
   ]
  },
  {
   "cell_type": "code",
   "execution_count": 6,
   "metadata": {},
   "outputs": [],
   "source": [
    "# Создание функции для вычисления стоимости пути\n",
    "def evaluate_path(path, graph):\n",
    "    weight = sum(graph[path[i]][path[i+1]]['weight'] for i in range(len(path) - 1))\n",
    "    weight += graph[path[-1]][path[0]]['weight']  # Замкнуть цикл\n",
    "    return weight"
   ]
  },
  {
   "cell_type": "code",
   "execution_count": 7,
   "metadata": {},
   "outputs": [],
   "source": [
    "# Генетический алгоритм для поиска пути\n",
    "def find_good_path(graph):\n",
    "    # Настройка параметров GA\n",
    "    creator.create(\"FitnessMin\", base.Fitness, weights=(-1.0,))\n",
    "    creator.create(\"Individual\", list, fitness=creator.FitnessMin)\n",
    "    \n",
    "    toolbox = base.Toolbox()\n",
    "    toolbox.register(\"indices\", np.random.permutation, num_nodes)\n",
    "    toolbox.register(\"individual\", tools.initIterate, creator.Individual, toolbox.indices)\n",
    "    toolbox.register(\"population\", tools.initRepeat, list, toolbox.individual)\n",
    "    \n",
    "    toolbox.register(\"evaluate\", evaluate_path, graph=graph)\n",
    "    toolbox.register(\"mate\", tools.cxOrdered)\n",
    "    toolbox.register(\"mutate\", tools.mutShuffleIndexes, indpb=0.05)\n",
    "    toolbox.register(\"select\", tools.selTournament, tournsize=3)\n",
    "    \n",
    "    # Создание начальной популяции\n",
    "    population = toolbox.population(n=pop_size)\n",
    "    \n",
    "    # Запуск алгоритма\n",
    "    algorithms.eaSimple(population, toolbox, cxpb=0.7, mutpb=0.2, ngen=num_generations, verbose=False)\n",
    "    \n",
    "    # Находим лучший путь\n",
    "    best_individual = tools.selBest(population, k=1)[0]\n",
    "    return best_individual"
   ]
  },
  {
   "cell_type": "markdown",
   "metadata": {},
   "source": [
    "TODO:сделать так что бы весь датасет был json файлом "
   ]
  },
  {
   "cell_type": "code",
   "execution_count": null,
   "metadata": {},
   "outputs": [],
   "source": [
    "# Генерация графов и их весовых матриц\n",
    "for i in range(num_graphs):\n",
    "    G = nx.complete_graph(num_nodes)\n",
    "    \n",
    "    for (u, v) in G.edges():\n",
    "        weight = np.random.uniform(1, 10)\n",
    "        G[u][v]['weight'] = weight\n",
    "    \n",
    "    weights_matrix = nx.to_numpy_array(G, weight='weight')\n",
    "    weights_matrices[i] = weights_matrix\n",
    "    \n",
    "    # Нахождение \"хорошего\" пути с использованием генетического алгоритма\n",
    "    best_path = find_good_path(G)\n",
    "    good_paths[i] = best_path"
   ]
  },
  {
   "cell_type": "code",
   "execution_count": 9,
   "metadata": {},
   "outputs": [],
   "source": [
    "# Проверка существования файла\n",
    "if os.path.exists(os.path.join(directory,\"good_paths.npy\")):\n",
    "    with open(os.path.join(directory,\"good_paths.npy\"), 'rb') as file:\n",
    "        good_paths=np.load(file)\n",
    "        type(good_paths)\n",
    "else:\n",
    "    print(\"Файл не найден.\")"
   ]
  },
  {
   "cell_type": "code",
   "execution_count": 12,
   "metadata": {},
   "outputs": [],
   "source": [
    "# Количество перестановок для каждого пути\n",
    "n=len(good_paths[0])\n",
    "num_permutations = n\n",
    "num_nodes = good_paths.shape[1]  # Количество вершин (длина каждого пути)\n",
    "noisy_paths = []"
   ]
  },
  {
   "cell_type": "code",
   "execution_count": 13,
   "metadata": {},
   "outputs": [],
   "source": [
    "# Генерация зашумленных версий каждого пути\n",
    "for path in good_paths:\n",
    "    for i in range(1, num_permutations + 1):\n",
    "        # Вычисляем количество перемешанных элементов\n",
    "        num_swaps = (i * num_nodes) // num_permutations\n",
    "        \n",
    "        # Создаем зашумленный путь\n",
    "        noisy_path = path.copy()\n",
    "        swap_indices = np.random.choice(num_nodes, num_swaps, replace=False)\n",
    "        \n",
    "        \n",
    "        # Выполняем перестановки\n",
    "        for j in range(0, num_swaps - 1, 2):\n",
    "            noisy_path[swap_indices[j]], noisy_path[swap_indices[j+1]] = noisy_path[swap_indices[j+1]], noisy_path[swap_indices[j]]\n",
    "        \n",
    "        # Добавляем зашумленный путь в список\n",
    "        noisy_paths.append(noisy_path)"
   ]
  },
  {
   "cell_type": "code",
   "execution_count": null,
   "metadata": {},
   "outputs": [],
   "source": [
    "# Преобразование списка в numpy массив\n",
    "noisy_paths = np.array(noisy_paths)\n",
    "np.save(os.path.join(directory,\"noisy_paths.npy\"), noisy_paths)"
   ]
  }
 ],
 "metadata": {
  "kernelspec": {
   "display_name": "Python 3",
   "language": "python",
   "name": "python3"
  },
  "language_info": {
   "codemirror_mode": {
    "name": "ipython",
    "version": 3
   },
   "file_extension": ".py",
   "mimetype": "text/x-python",
   "name": "python",
   "nbconvert_exporter": "python",
   "pygments_lexer": "ipython3",
   "version": "3.12.3"
  }
 },
 "nbformat": 4,
 "nbformat_minor": 2
}
