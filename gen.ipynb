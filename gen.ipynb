{
 "cells": [
  {
   "cell_type": "code",
   "execution_count": 1,
   "metadata": {},
   "outputs": [],
   "source": [
    "import os\n",
    "import numpy as np\n",
    "import networkx as nx\n",
    "from deap import base, creator, tools, algorithms"
   ]
  },
  {
   "cell_type": "code",
   "execution_count": 2,
   "metadata": {},
   "outputs": [],
   "source": [
    "# Параметры\n",
    "num_graphs = 1000\n",
    "num_nodes = 5\n",
    "pop_size = 30  # Размер популяции\n",
    "num_generations = 10  # Количество поколений"
   ]
  },
  {
   "cell_type": "code",
   "execution_count": 3,
   "metadata": {},
   "outputs": [],
   "source": [
    "def get_weight(G,path):\n",
    "    res=0\n",
    "\n",
    "    for i in range(-1,path.shape[0]-1):\n",
    "        res+=G[path[i]][path[i+1]]\n",
    "    return res"
   ]
  },
  {
   "cell_type": "code",
   "execution_count": 4,
   "metadata": {},
   "outputs": [],
   "source": [
    "# Директория для хранения файлов\n",
    "script_dir = os.getcwd()\n",
    "directory = os.path.join(script_dir, 'data/n=5')\n",
    "os.makedirs(directory, exist_ok=True)\n",
    "# Инициализация массива весовых матриц и \"хороших\" путей\n",
    "weights_matrices = np.zeros((num_graphs, num_nodes, num_nodes))\n",
    "good_paths = np.zeros((num_graphs, num_nodes), dtype=int)"
   ]
  },
  {
   "cell_type": "code",
   "execution_count": 5,
   "metadata": {},
   "outputs": [],
   "source": [
    "def evaluate_path(path, graph):\n",
    "    weight = sum(graph[path[i]][path[i+1]]['weight'] for i in range(len(path) - 1))\n",
    "    weight += graph[path[-1]][path[0]]['weight']  # Close the cycle\n",
    "    return (weight,)  # Return as a tuple\n"
   ]
  },
  {
   "cell_type": "code",
   "execution_count": 6,
   "metadata": {},
   "outputs": [],
   "source": [
    "# Генетический алгоритм для поиска пути\n",
    "def find_good_path(graph):\n",
    "    # Настройка параметров GA\n",
    "    creator.create(\"FitnessMin\", base.Fitness, weights=(-1.0,))\n",
    "    creator.create(\"Individual\", list, fitness=creator.FitnessMin)\n",
    "    \n",
    "    toolbox = base.Toolbox()\n",
    "    toolbox.register(\"indices\", np.random.permutation, num_nodes)\n",
    "    toolbox.register(\"individual\", tools.initIterate, creator.Individual, toolbox.indices)\n",
    "    toolbox.register(\"population\", tools.initRepeat, list, toolbox.individual)\n",
    "    \n",
    "    toolbox.register(\"evaluate\", evaluate_path, graph=graph)\n",
    "    toolbox.register(\"mate\", tools.cxOrdered)\n",
    "    toolbox.register(\"mutate\", tools.mutShuffleIndexes, indpb=0.05)\n",
    "    toolbox.register(\"select\", tools.selTournament, tournsize=3)\n",
    "    \n",
    "    # Создание начальной популяции\n",
    "    population = toolbox.population(n=pop_size)\n",
    "    \n",
    "    # Запуск алгоритма\n",
    "    algorithms.eaSimple(population, toolbox, cxpb=0.7, mutpb=0.2, ngen=num_generations, verbose=False)\n",
    "    \n",
    "    # Находим лучший путь\n",
    "    best_individual = tools.selBest(population, k=1)[0]\n",
    "    return best_individual"
   ]
  },
  {
   "cell_type": "code",
   "execution_count": 7,
   "metadata": {},
   "outputs": [],
   "source": [
    "def quantize_weight(weight, min_value=1, max_value=10, num_bits=8):\n",
    "    levels = 2 ** num_bits  # For 8 bits, levels = 256\n",
    "    quantized_value = int((weight - min_value) / (max_value - min_value) * (levels - 1))\n",
    "    return quantized_value"
   ]
  },
  {
   "cell_type": "markdown",
   "metadata": {},
   "source": [
    "TODO:сделать так что бы весь датасет был json файлом "
   ]
  },
  {
   "cell_type": "code",
   "execution_count": 8,
   "metadata": {},
   "outputs": [
    {
     "name": "stderr",
     "output_type": "stream",
     "text": [
      "c:\\Users\\revya\\AppData\\Local\\Programs\\Python\\Python312\\Lib\\site-packages\\deap\\creator.py:185: RuntimeWarning: A class named 'FitnessMin' has already been created and it will be overwritten. Consider deleting previous creation of that class or rename it.\n",
      "  warnings.warn(\"A class named '{0}' has already been created and it \"\n",
      "c:\\Users\\revya\\AppData\\Local\\Programs\\Python\\Python312\\Lib\\site-packages\\deap\\creator.py:185: RuntimeWarning: A class named 'Individual' has already been created and it will be overwritten. Consider deleting previous creation of that class or rename it.\n",
      "  warnings.warn(\"A class named '{0}' has already been created and it \"\n"
     ]
    },
    {
     "ename": "KeyboardInterrupt",
     "evalue": "",
     "output_type": "error",
     "traceback": [
      "\u001b[1;31m---------------------------------------------------------------------------\u001b[0m",
      "\u001b[1;31mKeyboardInterrupt\u001b[0m                         Traceback (most recent call last)",
      "Cell \u001b[1;32mIn[8], line 11\u001b[0m\n\u001b[0;32m      7\u001b[0m     quantized_weight \u001b[38;5;241m=\u001b[39m quantize_weight(weight)\n\u001b[0;32m      8\u001b[0m     G[u][v][\u001b[38;5;124m'\u001b[39m\u001b[38;5;124mweight\u001b[39m\u001b[38;5;124m'\u001b[39m] \u001b[38;5;241m=\u001b[39m quantized_weight\n\u001b[1;32m---> 11\u001b[0m weights_matrix \u001b[38;5;241m=\u001b[39m \u001b[43mnx\u001b[49m\u001b[38;5;241;43m.\u001b[39;49m\u001b[43mto_numpy_array\u001b[49m\u001b[43m(\u001b[49m\u001b[43mG\u001b[49m\u001b[43m,\u001b[49m\u001b[43m \u001b[49m\u001b[43mweight\u001b[49m\u001b[38;5;241;43m=\u001b[39;49m\u001b[38;5;124;43m'\u001b[39;49m\u001b[38;5;124;43mweight\u001b[39;49m\u001b[38;5;124;43m'\u001b[39;49m\u001b[43m,\u001b[49m\u001b[43m \u001b[49m\u001b[43mdtype\u001b[49m\u001b[38;5;241;43m=\u001b[39;49m\u001b[38;5;28;43mint\u001b[39;49m\u001b[43m)\u001b[49m\n\u001b[0;32m     12\u001b[0m weights_matrices[i] \u001b[38;5;241m=\u001b[39m weights_matrix\n\u001b[0;32m     14\u001b[0m \u001b[38;5;66;03m# Нахождение \"хорошего\" пути с использованием генетического алгоритма\u001b[39;00m\n",
      "File \u001b[1;32m<class 'networkx.utils.decorators.argmap'> compilation 20:3\u001b[0m, in \u001b[0;36margmap_to_numpy_array_17\u001b[1;34m(G, nodelist, dtype, order, multigraph_weight, weight, nonedge, backend, **backend_kwargs)\u001b[0m\n\u001b[0;32m      1\u001b[0m \u001b[38;5;28;01mimport\u001b[39;00m \u001b[38;5;21;01mbz2\u001b[39;00m\n\u001b[0;32m      2\u001b[0m \u001b[38;5;28;01mimport\u001b[39;00m \u001b[38;5;21;01mcollections\u001b[39;00m\n\u001b[1;32m----> 3\u001b[0m \u001b[38;5;28;01mimport\u001b[39;00m \u001b[38;5;21;01mgzip\u001b[39;00m\n\u001b[0;32m      4\u001b[0m \u001b[38;5;28;01mimport\u001b[39;00m \u001b[38;5;21;01minspect\u001b[39;00m\n\u001b[0;32m      5\u001b[0m \u001b[38;5;28;01mimport\u001b[39;00m \u001b[38;5;21;01mitertools\u001b[39;00m\n",
      "File \u001b[1;32mc:\\Users\\revya\\AppData\\Local\\Programs\\Python\\Python312\\Lib\\site-packages\\networkx\\utils\\backends.py:633\u001b[0m, in \u001b[0;36m_dispatchable.__call__\u001b[1;34m(self, backend, *args, **kwargs)\u001b[0m\n\u001b[0;32m    628\u001b[0m \u001b[38;5;250m\u001b[39m\u001b[38;5;124;03m\"\"\"Returns the result of the original function, or the backend function if\u001b[39;00m\n\u001b[0;32m    629\u001b[0m \u001b[38;5;124;03mthe backend is specified and that backend implements `func`.\"\"\"\u001b[39;00m\n\u001b[0;32m    631\u001b[0m \u001b[38;5;28;01mif\u001b[39;00m \u001b[38;5;129;01mnot\u001b[39;00m backends:\n\u001b[0;32m    632\u001b[0m     \u001b[38;5;66;03m# Fast path if no backends are installed\u001b[39;00m\n\u001b[1;32m--> 633\u001b[0m     \u001b[38;5;28;01mreturn\u001b[39;00m \u001b[38;5;28;43mself\u001b[39;49m\u001b[38;5;241;43m.\u001b[39;49m\u001b[43morig_func\u001b[49m\u001b[43m(\u001b[49m\u001b[38;5;241;43m*\u001b[39;49m\u001b[43margs\u001b[49m\u001b[43m,\u001b[49m\u001b[43m \u001b[49m\u001b[38;5;241;43m*\u001b[39;49m\u001b[38;5;241;43m*\u001b[39;49m\u001b[43mkwargs\u001b[49m\u001b[43m)\u001b[49m\n\u001b[0;32m    635\u001b[0m \u001b[38;5;66;03m# Use `backend_name` in this function instead of `backend`\u001b[39;00m\n\u001b[0;32m    636\u001b[0m backend_name \u001b[38;5;241m=\u001b[39m backend\n",
      "File \u001b[1;32mc:\\Users\\revya\\AppData\\Local\\Programs\\Python\\Python312\\Lib\\site-packages\\networkx\\convert_matrix.py:1018\u001b[0m, in \u001b[0;36mto_numpy_array\u001b[1;34m(G, nodelist, dtype, order, multigraph_weight, weight, nonedge)\u001b[0m\n\u001b[0;32m   1016\u001b[0m \u001b[38;5;66;03m# Set array values with advanced indexing\u001b[39;00m\n\u001b[0;32m   1017\u001b[0m A[i, j] \u001b[38;5;241m=\u001b[39m wts\n\u001b[1;32m-> 1018\u001b[0m \u001b[38;5;28;01mif\u001b[39;00m \u001b[38;5;129;01mnot\u001b[39;00m \u001b[43mG\u001b[49m\u001b[38;5;241;43m.\u001b[39;49m\u001b[43mis_directed\u001b[49m\u001b[43m(\u001b[49m\u001b[43m)\u001b[49m:\n\u001b[0;32m   1019\u001b[0m     A[j, i] \u001b[38;5;241m=\u001b[39m wts\n\u001b[0;32m   1021\u001b[0m \u001b[38;5;28;01mreturn\u001b[39;00m A\n",
      "File \u001b[1;32mc:\\Users\\revya\\AppData\\Local\\Programs\\Python\\Python312\\Lib\\site-packages\\networkx\\classes\\graph.py:1562\u001b[0m, in \u001b[0;36mGraph.is_directed\u001b[1;34m(self)\u001b[0m\n\u001b[0;32m   1559\u001b[0m \u001b[38;5;250m    \u001b[39m\u001b[38;5;124;03m\"\"\"Returns True if graph is a multigraph, False otherwise.\"\"\"\u001b[39;00m\n\u001b[0;32m   1560\u001b[0m     \u001b[38;5;28;01mreturn\u001b[39;00m \u001b[38;5;28;01mFalse\u001b[39;00m\n\u001b[1;32m-> 1562\u001b[0m \u001b[38;5;28;01mdef\u001b[39;00m \u001b[38;5;21mis_directed\u001b[39m(\u001b[38;5;28mself\u001b[39m):\n\u001b[0;32m   1563\u001b[0m \u001b[38;5;250m    \u001b[39m\u001b[38;5;124;03m\"\"\"Returns True if graph is directed, False otherwise.\"\"\"\u001b[39;00m\n\u001b[0;32m   1564\u001b[0m     \u001b[38;5;28;01mreturn\u001b[39;00m \u001b[38;5;28;01mFalse\u001b[39;00m\n",
      "\u001b[1;31mKeyboardInterrupt\u001b[0m: "
     ]
    }
   ],
   "source": [
    "# Генерация графов и их весовых матриц\n",
    "for i in range(num_graphs):\n",
    "    G = nx.complete_graph(num_nodes)\n",
    "    \n",
    "    for (u, v) in G.edges():\n",
    "        weight = np.random.uniform(1, 10)\n",
    "        quantized_weight = quantize_weight(weight)\n",
    "        G[u][v]['weight'] = quantized_weight\n",
    "\n",
    "    \n",
    "    weights_matrix = nx.to_numpy_array(G, weight='weight', dtype=int)\n",
    "    weights_matrices[i] = weights_matrix\n",
    "    \n",
    "    # Нахождение \"хорошего\" пути с использованием генетического алгоритма\n",
    "    best_path = find_good_path(G)\n",
    "    good_paths[i] = best_path"
   ]
  },
  {
   "cell_type": "code",
   "execution_count": 13,
   "metadata": {},
   "outputs": [],
   "source": [
    "with open(os.path.join(directory, \"good_paths.npy\"), 'wb') as file:\n",
    "    np.save(file, good_paths)"
   ]
  },
  {
   "cell_type": "code",
   "execution_count": 14,
   "metadata": {},
   "outputs": [],
   "source": [
    "with open(os.path.join(directory, \"weights.npy\"), 'wb') as file:\n",
    "    np.save(file, weights_matrices)"
   ]
  },
  {
   "cell_type": "code",
   "execution_count": 15,
   "metadata": {},
   "outputs": [],
   "source": [
    "# Количество перестановок для каждого пути\n",
    "\n",
    "num_permutations = 5\n",
    "num_nodes = good_paths.shape[1]  # Количество вершин (длина каждого пути)\n",
    "noisy_paths = np.zeros(shape=(good_paths.shape[0],num_permutations,num_nodes))"
   ]
  },
  {
   "cell_type": "code",
   "execution_count": 16,
   "metadata": {},
   "outputs": [],
   "source": [
    "# Генерация зашумленных версий каждого пути\n",
    "for k in range(good_paths.shape[0]):\n",
    "    path=good_paths[k]\n",
    "    weights_of_paths=np.zeros(shape=(good_paths.shape[0],num_permutations))\n",
    "    for i in range(1, num_permutations + 1):\n",
    "        # Вычисляем количество перемешанных элементов\n",
    "        num_swaps = num_permutations\n",
    "        \n",
    "        # Создаем зашумленный путь\n",
    "        noisy_path = path.copy()\n",
    "        swap_indices = np.random.choice(num_nodes, num_swaps, replace=False)\n",
    "        #print(f\"noisy_path.shape {noisy_path.shape}\")\n",
    "        \n",
    "        # Выполняем перестановки\n",
    "        for j in range(0, num_swaps - 1, 2):\n",
    "            noisy_path[swap_indices[j]], noisy_path[swap_indices[j+1]] = noisy_path[swap_indices[j+1]], noisy_path[swap_indices[j]]\n",
    "        \n",
    "        # Добавляем зашумленный путь в список\n",
    "        noisy_paths[k,i-1,:]=noisy_path\n",
    "        weights_of_paths[k][i]=get_weight(weights_matrices[k])\n",
    "    \n",
    "    "
   ]
  },
  {
   "cell_type": "code",
   "execution_count": 17,
   "metadata": {},
   "outputs": [],
   "source": [
    "# Преобразование списка в numpy массив\n",
    "np.save(os.path.join(directory,\"noisy_paths.npy\"), noisy_paths)"
   ]
  },
  {
   "cell_type": "code",
   "execution_count": 18,
   "metadata": {},
   "outputs": [
    {
     "data": {
      "text/plain": [
       "(1000, 5, 5)"
      ]
     },
     "execution_count": 18,
     "metadata": {},
     "output_type": "execute_result"
    }
   ],
   "source": [
    "noisy_paths.shape"
   ]
  },
  {
   "cell_type": "code",
   "execution_count": 19,
   "metadata": {},
   "outputs": [
    {
     "data": {
      "text/plain": [
       "(1000, 5)"
      ]
     },
     "execution_count": 19,
     "metadata": {},
     "output_type": "execute_result"
    }
   ],
   "source": [
    "good_paths.shape"
   ]
  },
  {
   "cell_type": "code",
   "execution_count": 48,
   "metadata": {},
   "outputs": [
    {
     "name": "stdout",
     "output_type": "stream",
     "text": [
      "(1000, 30, 30)\n"
     ]
    }
   ],
   "source": [
    "directory = os.path.join(script_dir, 'data')\n",
    "\n",
    "if os.path.exists(os.path.join(directory,\"weights.npy\")):\n",
    "    with open(os.path.join(directory,\"weights.npy\"), 'rb') as file:\n",
    "        weights=np.load(file).astype(np.uint8)\n",
    "        print(weights.shape)\n",
    "else:\n",
    "    print(\"Файл не найден.\")\n",
    "\n",
    "if os.path.exists(os.path.join(directory,\"good_paths.npy\")):\n",
    "    with open(os.path.join(directory,\"good_paths.npy\"), 'rb') as file:\n",
    "        good_paths=np.load(file)\n",
    "        \n",
    "else:\n",
    "    print(\"Файл не найден.\")\n",
    "\n",
    "\n",
    "if os.path.exists(os.path.join(directory,\"noisy_paths.npy\")):\n",
    "    with open(os.path.join(directory,\"noisy_paths.npy\"), 'rb') as file:\n",
    "        noisy_paths=np.load(file).astype(np.uint8)\n",
    "        \n",
    "else:\n",
    "    print(\"Файл не найден.\")\n"
   ]
  },
  {
   "cell_type": "code",
   "execution_count": 49,
   "metadata": {},
   "outputs": [
    {
     "data": {
      "text/plain": [
       "(1000, 10, 30)"
      ]
     },
     "execution_count": 49,
     "metadata": {},
     "output_type": "execute_result"
    }
   ],
   "source": [
    "noisy_paths.shape\n"
   ]
  },
  {
   "cell_type": "code",
   "execution_count": 50,
   "metadata": {},
   "outputs": [
    {
     "data": {
      "text/plain": [
       "array([[19, 27,  9,  4,  3, 13, 23, 22, 12, 24,  8, 10, 11, 20, 26, 21,\n",
       "         5, 16,  2, 18, 25, 28, 15,  6,  1,  0,  7, 29, 14, 17],\n",
       "       [19, 10,  6, 16, 21, 24,  1, 22, 12, 13,  8, 14,  2, 25, 26,  3,\n",
       "         5,  4, 11, 18, 20, 28, 15,  9,  0, 23,  7, 29, 27, 17],\n",
       "       [19, 28,  6,  8, 21, 24, 23,  7, 12, 13, 16, 27, 11, 20, 26,  3,\n",
       "         5,  4,  2, 18,  9, 10, 15, 25,  0,  1, 22, 29, 14, 17],\n",
       "       [ 6, 10, 19, 16, 21, 13, 23, 12, 22, 11,  8, 27, 24, 20, 26,  3,\n",
       "         5,  4, 14, 18,  7, 28, 15,  9,  0,  1, 25, 29,  2, 17],\n",
       "       [19, 10,  6, 28, 21, 13, 23, 22, 12, 24,  8,  2, 14, 20, 26,  3,\n",
       "         7,  9, 27, 18, 25, 16, 15,  4,  0,  1,  5, 29, 11, 17],\n",
       "       [19, 10,  6, 29, 21,  1,  8, 22, 25, 24, 23, 27, 11, 20, 26,  3,\n",
       "         5,  4,  2, 18, 12,  0, 15,  9, 28, 13,  7, 16, 14, 17],\n",
       "       [ 3, 10, 11, 16, 21, 13, 14, 22, 12, 24,  8, 15,  6, 28, 26, 19,\n",
       "         5,  4,  2, 18, 25, 20, 27,  9,  0,  1,  7, 29, 23, 17],\n",
       "       [19, 10,  6,  1, 21,  9, 23, 11, 12, 24,  8, 27, 22, 20, 26, 28,\n",
       "         5,  4,  2, 18, 15,  3, 25, 13,  0, 16,  7, 29, 14, 17],\n",
       "       [19, 10,  6, 16, 21,  2, 23, 27, 12, 24,  8, 22, 11, 26, 20,  3,\n",
       "         5,  4, 13, 18, 15,  1, 25,  9,  0, 28,  7, 29, 14, 17],\n",
       "       [16, 26,  6, 19, 21, 13,  2, 22, 12, 24,  8, 27, 11, 14, 10,  3,\n",
       "         5,  4, 23, 18, 25, 28, 15,  9,  0,  1, 29,  7, 20, 17]],\n",
       "      dtype=uint8)"
      ]
     },
     "execution_count": 50,
     "metadata": {},
     "output_type": "execute_result"
    }
   ],
   "source": [
    "noisy_paths[0]"
   ]
  },
  {
   "cell_type": "code",
   "execution_count": 23,
   "metadata": {},
   "outputs": [],
   "source": [
    "def get_weight(G,path):\n",
    "    res=0\n",
    "\n",
    "    for i in range(-1,path.shape[0]-1):\n",
    "        res+=G[path[i]][path[i+1]]\n",
    "    return res"
   ]
  },
  {
   "cell_type": "code",
   "execution_count": null,
   "metadata": {},
   "outputs": [],
   "source": []
  },
  {
   "cell_type": "code",
   "execution_count": 54,
   "metadata": {},
   "outputs": [
    {
     "data": {
      "text/plain": [
       "(54, 85)"
      ]
     },
     "execution_count": 54,
     "metadata": {},
     "output_type": "execute_result"
    }
   ],
   "source": [
    "get_weight(weights[0],good_paths[0]),get_weight(weights[0],noisy_paths[0][9])"
   ]
  }
 ],
 "metadata": {
  "kernelspec": {
   "display_name": "Python 3",
   "language": "python",
   "name": "python3"
  },
  "language_info": {
   "codemirror_mode": {
    "name": "ipython",
    "version": 3
   },
   "file_extension": ".py",
   "mimetype": "text/x-python",
   "name": "python",
   "nbconvert_exporter": "python",
   "pygments_lexer": "ipython3",
   "version": "3.12.3"
  }
 },
 "nbformat": 4,
 "nbformat_minor": 2
}
